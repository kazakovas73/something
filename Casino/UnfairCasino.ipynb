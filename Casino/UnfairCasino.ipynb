{
 "cells": [
  {
   "cell_type": "code",
   "execution_count": 1,
   "id": "4f5fdac5",
   "metadata": {},
   "outputs": [],
   "source": [
    "import pandas as pd\n",
    "import matplotlib.pyplot as plt\n",
    "import numpy as np\n",
    "import seaborn as sns\n",
    "from datetime import datetime\n",
    "from scipy import stats\n",
    "from sklearn import preprocessing"
   ]
  },
  {
   "cell_type": "markdown",
   "id": "ea77988d",
   "metadata": {},
   "source": [
    "# Импортируем датасет \"нечестного\" казино"
   ]
  },
  {
   "cell_type": "code",
   "execution_count": 2,
   "id": "9644ae59",
   "metadata": {},
   "outputs": [
    {
     "data": {
      "text/html": [
       "<div>\n",
       "<style scoped>\n",
       "    .dataframe tbody tr th:only-of-type {\n",
       "        vertical-align: middle;\n",
       "    }\n",
       "\n",
       "    .dataframe tbody tr th {\n",
       "        vertical-align: top;\n",
       "    }\n",
       "\n",
       "    .dataframe thead th {\n",
       "        text-align: right;\n",
       "    }\n",
       "</style>\n",
       "<table border=\"1\" class=\"dataframe\">\n",
       "  <thead>\n",
       "    <tr style=\"text-align: right;\">\n",
       "      <th></th>\n",
       "      <th>ID</th>\n",
       "      <th>gamers</th>\n",
       "      <th>skins</th>\n",
       "      <th>money</th>\n",
       "      <th>ticks</th>\n",
       "      <th>peopleWin</th>\n",
       "      <th>peopleLost</th>\n",
       "      <th>outpay</th>\n",
       "      <th>time</th>\n",
       "      <th>moderator</th>\n",
       "    </tr>\n",
       "  </thead>\n",
       "  <tbody>\n",
       "    <tr>\n",
       "      <th>0</th>\n",
       "      <td>2091103</td>\n",
       "      <td>144</td>\n",
       "      <td>174</td>\n",
       "      <td>283.57</td>\n",
       "      <td>14.30</td>\n",
       "      <td>125.459984</td>\n",
       "      <td>0.25</td>\n",
       "      <td>408.780000</td>\n",
       "      <td>2021-08-25 16:43</td>\n",
       "      <td>False</td>\n",
       "    </tr>\n",
       "    <tr>\n",
       "      <th>1</th>\n",
       "      <td>2091104</td>\n",
       "      <td>134</td>\n",
       "      <td>182</td>\n",
       "      <td>279.30</td>\n",
       "      <td>1.14</td>\n",
       "      <td>5.810003</td>\n",
       "      <td>177.04</td>\n",
       "      <td>108.070010</td>\n",
       "      <td>2021-08-25 16:44</td>\n",
       "      <td>False</td>\n",
       "    </tr>\n",
       "    <tr>\n",
       "      <th>2</th>\n",
       "      <td>2091105</td>\n",
       "      <td>139</td>\n",
       "      <td>179</td>\n",
       "      <td>282.87</td>\n",
       "      <td>3.91</td>\n",
       "      <td>125.010000</td>\n",
       "      <td>5.96</td>\n",
       "      <td>401.919920</td>\n",
       "      <td>2021-08-25 16:44</td>\n",
       "      <td>False</td>\n",
       "    </tr>\n",
       "    <tr>\n",
       "      <th>3</th>\n",
       "      <td>2091106</td>\n",
       "      <td>139</td>\n",
       "      <td>169</td>\n",
       "      <td>271.44</td>\n",
       "      <td>1.15</td>\n",
       "      <td>6.900001</td>\n",
       "      <td>181.85</td>\n",
       "      <td>96.490005</td>\n",
       "      <td>2021-08-25 16:45</td>\n",
       "      <td>False</td>\n",
       "    </tr>\n",
       "    <tr>\n",
       "      <th>4</th>\n",
       "      <td>2091107</td>\n",
       "      <td>142</td>\n",
       "      <td>177</td>\n",
       "      <td>304.88</td>\n",
       "      <td>1.00</td>\n",
       "      <td>0.000000</td>\n",
       "      <td>304.88</td>\n",
       "      <td>0.000000</td>\n",
       "      <td>2021-08-25 16:45</td>\n",
       "      <td>False</td>\n",
       "    </tr>\n",
       "  </tbody>\n",
       "</table>\n",
       "</div>"
      ],
      "text/plain": [
       "        ID  gamers  skins   money  ticks   peopleWin  peopleLost      outpay  \\\n",
       "0  2091103     144    174  283.57  14.30  125.459984        0.25  408.780000   \n",
       "1  2091104     134    182  279.30   1.14    5.810003      177.04  108.070010   \n",
       "2  2091105     139    179  282.87   3.91  125.010000        5.96  401.919920   \n",
       "3  2091106     139    169  271.44   1.15    6.900001      181.85   96.490005   \n",
       "4  2091107     142    177  304.88   1.00    0.000000      304.88    0.000000   \n",
       "\n",
       "               time  moderator  \n",
       "0  2021-08-25 16:43      False  \n",
       "1  2021-08-25 16:44      False  \n",
       "2  2021-08-25 16:44      False  \n",
       "3  2021-08-25 16:45      False  \n",
       "4  2021-08-25 16:45      False  "
      ]
     },
     "execution_count": 2,
     "metadata": {},
     "output_type": "execute_result"
    }
   ],
   "source": [
    "df_casino = pd.read_csv(\"onlineCasino.csv\")\n",
    "df_casino.head()"
   ]
  },
  {
   "cell_type": "code",
   "execution_count": 3,
   "id": "0cac0a7d",
   "metadata": {},
   "outputs": [
    {
     "name": "stdout",
     "output_type": "stream",
     "text": [
      "<class 'pandas.core.frame.DataFrame'>\n",
      "RangeIndex: 55575 entries, 0 to 55574\n",
      "Data columns (total 10 columns):\n",
      " #   Column      Non-Null Count  Dtype  \n",
      "---  ------      --------------  -----  \n",
      " 0   ID          55575 non-null  int64  \n",
      " 1   gamers      55575 non-null  int64  \n",
      " 2   skins       55575 non-null  int64  \n",
      " 3   money       55575 non-null  float64\n",
      " 4   ticks       55575 non-null  float64\n",
      " 5   peopleWin   55575 non-null  float64\n",
      " 6   peopleLost  55575 non-null  float64\n",
      " 7   outpay      55575 non-null  float64\n",
      " 8   time        55565 non-null  object \n",
      " 9   moderator   55575 non-null  bool   \n",
      "dtypes: bool(1), float64(5), int64(3), object(1)\n",
      "memory usage: 3.9+ MB\n"
     ]
    }
   ],
   "source": [
    "df_casino.info()"
   ]
  },
  {
   "cell_type": "markdown",
   "id": "c22595cd",
   "metadata": {},
   "source": [
    "# Удаляем строчки, в которых не указано время, их мало, так что не боимся ими перебрегать"
   ]
  },
  {
   "cell_type": "code",
   "execution_count": 4,
   "id": "ba554ab2",
   "metadata": {},
   "outputs": [
    {
     "name": "stdout",
     "output_type": "stream",
     "text": [
      "55575\n"
     ]
    },
    {
     "data": {
      "text/plain": [
       "55565"
      ]
     },
     "execution_count": 4,
     "metadata": {},
     "output_type": "execute_result"
    }
   ],
   "source": [
    "idx_to_drop = df_casino[df_casino[\"time\"].isna()].index\n",
    "print(df_casino.shape[0])\n",
    "df_casino = df_casino.drop(idx_to_drop, axis=0)\n",
    "df_casino.shape[0]"
   ]
  },
  {
   "cell_type": "code",
   "execution_count": 5,
   "id": "0bd5f133",
   "metadata": {},
   "outputs": [
    {
     "name": "stdout",
     "output_type": "stream",
     "text": [
      "Average amount of the players in a single game: 123.04968955277603, min players: 0, max players: 491\n"
     ]
    }
   ],
   "source": [
    "print(f'Average amount of the players in a single game: {df_casino[\"gamers\"].mean()}, ' +\n",
    "f'min players: {df_casino[\"gamers\"].min()}, max players: {df_casino[\"gamers\"].max()}')"
   ]
  },
  {
   "cell_type": "code",
   "execution_count": 6,
   "id": "2b679459",
   "metadata": {
    "scrolled": true
   },
   "outputs": [
    {
     "data": {
      "image/png": "[encoded data removed]",
      "text/plain": [
       "<Figure size 432x288 with 1 Axes>"
      ]
     },
     "metadata": {
      "needs_background": "light"
     },
     "output_type": "display_data"
    }
   ],
   "source": [
    "plt.hist(df_casino[\"skins\"], bins=50)\n",
    "None"
   ]
  },
  {
   "cell_type": "code",
   "execution_count": 7,
   "id": "af17c8fc",
   "metadata": {},
   "outputs": [
    {
     "name": "stderr",
     "output_type": "stream",
     "text": [
      "/home/niisan/anaconda3/lib/python3.8/site-packages/seaborn/distributions.py:2557: FutureWarning: `distplot` is a deprecated function and will be removed in a future version. Please adapt your code to use either `displot` (a figure-level function with similar flexibility) or `histplot` (an axes-level function for histograms).\n",
      "  warnings.warn(msg, FutureWarning)\n"
     ]
    },
    {
     "data": {
      "image/png": "[encoded data removed]",
      "text/plain": [
       "<Figure size 432x288 with 1 Axes>"
      ]
     },
     "metadata": {
      "needs_background": "light"
     },
     "output_type": "display_data"
    }
   ],
   "source": [
    "sns.distplot(df_casino[\"money\"])\n",
    "None"
   ]
  },
  {
   "cell_type": "markdown",
   "id": "14f19e3d",
   "metadata": {},
   "source": [
    "# Как мы видим, казино в плюсе почти на миллион"
   ]
  },
  {
   "cell_type": "code",
   "execution_count": 8,
   "id": "c2a9c5f5",
   "metadata": {},
   "outputs": [
    {
     "data": {
      "text/plain": [
       "3703645.79214257"
      ]
     },
     "execution_count": 8,
     "metadata": {},
     "output_type": "execute_result"
    }
   ],
   "source": [
    "df_casino[\"peopleWin\"].sum()"
   ]
  },
  {
   "cell_type": "code",
   "execution_count": 9,
   "id": "75b25ccc",
   "metadata": {},
   "outputs": [
    {
     "data": {
      "text/plain": [
       "4407522.4382627895"
      ]
     },
     "execution_count": 9,
     "metadata": {},
     "output_type": "execute_result"
    }
   ],
   "source": [
    "df_casino[\"peopleLost\"].sum()"
   ]
  },
  {
   "cell_type": "code",
   "execution_count": 10,
   "id": "f619cdc1",
   "metadata": {},
   "outputs": [
    {
     "data": {
      "text/plain": [
       "(2692.8496947050353, 72.76758796771824)"
      ]
     },
     "execution_count": 10,
     "metadata": {},
     "output_type": "execute_result"
    }
   ],
   "source": [
    "moder_yes = df_casino[df_casino[\"moderator\"] == True]\n",
    "moder_no = df_casino[df_casino[\"moderator\"] == False]\n",
    "\n",
    "moder_yes[\"peopleLost\"].mean(), moder_no[\"peopleLost\"].mean()"
   ]
  },
  {
   "cell_type": "code",
   "execution_count": 12,
   "id": "dff65932",
   "metadata": {},
   "outputs": [],
   "source": [
    "year = []\n",
    "month = []\n",
    "day = []\n",
    "hour = []\n",
    "minute = []\n",
    "\n",
    "for i in range(df_casino.shape[0]):\n",
    "    s = datetime.strptime(df_casino[\"time\"].iloc[i], \"%Y-%m-%d %H:%M\")\n",
    "    year.append(s.year)\n",
    "    month.append(s.month)\n",
    "    day.append(s.day)\n",
    "    hour.append(s.hour)\n",
    "    minute.append(s.minute)\n",
    "\n",
    "df_casino[\"year\"] = year\n",
    "df_casino[\"month\"] = month\n",
    "df_casino[\"day\"] = day\n",
    "df_casino[\"hour\"] = hour\n",
    "df_casino[\"minute\"] = minute"
   ]
  },
  {
   "cell_type": "code",
   "execution_count": 13,
   "id": "16015ab7",
   "metadata": {},
   "outputs": [
    {
     "data": {
      "text/html": [
       "<div>\n",
       "<style scoped>\n",
       "    .dataframe tbody tr th:only-of-type {\n",
       "        vertical-align: middle;\n",
       "    }\n",
       "\n",
       "    .dataframe tbody tr th {\n",
       "        vertical-align: top;\n",
       "    }\n",
       "\n",
       "    .dataframe thead th {\n",
       "        text-align: right;\n",
       "    }\n",
       "</style>\n",
       "<table border=\"1\" class=\"dataframe\">\n",
       "  <thead>\n",
       "    <tr style=\"text-align: right;\">\n",
       "      <th></th>\n",
       "      <th>ID</th>\n",
       "      <th>gamers</th>\n",
       "      <th>skins</th>\n",
       "      <th>money</th>\n",
       "      <th>ticks</th>\n",
       "      <th>peopleWin</th>\n",
       "      <th>peopleLost</th>\n",
       "      <th>outpay</th>\n",
       "      <th>time</th>\n",
       "      <th>moderator</th>\n",
       "      <th>year</th>\n",
       "      <th>month</th>\n",
       "      <th>day</th>\n",
       "      <th>hour</th>\n",
       "      <th>minute</th>\n",
       "    </tr>\n",
       "  </thead>\n",
       "  <tbody>\n",
       "    <tr>\n",
       "      <th>0</th>\n",
       "      <td>2091103</td>\n",
       "      <td>144</td>\n",
       "      <td>174</td>\n",
       "      <td>283.57</td>\n",
       "      <td>14.30</td>\n",
       "      <td>125.459984</td>\n",
       "      <td>0.25</td>\n",
       "      <td>408.780000</td>\n",
       "      <td>2021-08-25 16:43</td>\n",
       "      <td>False</td>\n",
       "      <td>2021</td>\n",
       "      <td>8</td>\n",
       "      <td>25</td>\n",
       "      <td>16</td>\n",
       "      <td>43</td>\n",
       "    </tr>\n",
       "    <tr>\n",
       "      <th>1</th>\n",
       "      <td>2091104</td>\n",
       "      <td>134</td>\n",
       "      <td>182</td>\n",
       "      <td>279.30</td>\n",
       "      <td>1.14</td>\n",
       "      <td>5.810003</td>\n",
       "      <td>177.04</td>\n",
       "      <td>108.070010</td>\n",
       "      <td>2021-08-25 16:44</td>\n",
       "      <td>False</td>\n",
       "      <td>2021</td>\n",
       "      <td>8</td>\n",
       "      <td>25</td>\n",
       "      <td>16</td>\n",
       "      <td>44</td>\n",
       "    </tr>\n",
       "    <tr>\n",
       "      <th>2</th>\n",
       "      <td>2091105</td>\n",
       "      <td>139</td>\n",
       "      <td>179</td>\n",
       "      <td>282.87</td>\n",
       "      <td>3.91</td>\n",
       "      <td>125.010000</td>\n",
       "      <td>5.96</td>\n",
       "      <td>401.919920</td>\n",
       "      <td>2021-08-25 16:44</td>\n",
       "      <td>False</td>\n",
       "      <td>2021</td>\n",
       "      <td>8</td>\n",
       "      <td>25</td>\n",
       "      <td>16</td>\n",
       "      <td>44</td>\n",
       "    </tr>\n",
       "    <tr>\n",
       "      <th>3</th>\n",
       "      <td>2091106</td>\n",
       "      <td>139</td>\n",
       "      <td>169</td>\n",
       "      <td>271.44</td>\n",
       "      <td>1.15</td>\n",
       "      <td>6.900001</td>\n",
       "      <td>181.85</td>\n",
       "      <td>96.490005</td>\n",
       "      <td>2021-08-25 16:45</td>\n",
       "      <td>False</td>\n",
       "      <td>2021</td>\n",
       "      <td>8</td>\n",
       "      <td>25</td>\n",
       "      <td>16</td>\n",
       "      <td>45</td>\n",
       "    </tr>\n",
       "    <tr>\n",
       "      <th>4</th>\n",
       "      <td>2091107</td>\n",
       "      <td>142</td>\n",
       "      <td>177</td>\n",
       "      <td>304.88</td>\n",
       "      <td>1.00</td>\n",
       "      <td>0.000000</td>\n",
       "      <td>304.88</td>\n",
       "      <td>0.000000</td>\n",
       "      <td>2021-08-25 16:45</td>\n",
       "      <td>False</td>\n",
       "      <td>2021</td>\n",
       "      <td>8</td>\n",
       "      <td>25</td>\n",
       "      <td>16</td>\n",
       "      <td>45</td>\n",
       "    </tr>\n",
       "  </tbody>\n",
       "</table>\n",
       "</div>"
      ],
      "text/plain": [
       "        ID  gamers  skins   money  ticks   peopleWin  peopleLost      outpay  \\\n",
       "0  2091103     144    174  283.57  14.30  125.459984        0.25  408.780000   \n",
       "1  2091104     134    182  279.30   1.14    5.810003      177.04  108.070010   \n",
       "2  2091105     139    179  282.87   3.91  125.010000        5.96  401.919920   \n",
       "3  2091106     139    169  271.44   1.15    6.900001      181.85   96.490005   \n",
       "4  2091107     142    177  304.88   1.00    0.000000      304.88    0.000000   \n",
       "\n",
       "               time  moderator  year  month  day  hour  minute  \n",
       "0  2021-08-25 16:43      False  2021      8   25    16      43  \n",
       "1  2021-08-25 16:44      False  2021      8   25    16      44  \n",
       "2  2021-08-25 16:44      False  2021      8   25    16      44  \n",
       "3  2021-08-25 16:45      False  2021      8   25    16      45  \n",
       "4  2021-08-25 16:45      False  2021      8   25    16      45  "
      ]
     },
     "execution_count": 13,
     "metadata": {},
     "output_type": "execute_result"
    }
   ],
   "source": [
    "df_casino.head()"
   ]
  },
  {
   "cell_type": "code",
   "execution_count": 14,
   "id": "a84f30b6",
   "metadata": {},
   "outputs": [
    {
     "data": {
      "image/png": "[encoded data removed]",
      "text/plain": [
       "<Figure size 432x288 with 1 Axes>"
      ]
     },
     "metadata": {
      "needs_background": "light"
     },
     "output_type": "display_data"
    }
   ],
   "source": [
    "plt.scatter(df_casino[\"hour\"], df_casino[\"peopleWin\"])\n",
    "None"
   ]
  },
  {
   "cell_type": "code",
   "execution_count": 15,
   "id": "aaf6a05c",
   "metadata": {},
   "outputs": [
    {
     "data": {
      "image/png": "[encoded data removed]",
      "text/plain": [
       "<Figure size 1440x720 with 2 Axes>"
      ]
     },
     "metadata": {
      "needs_background": "light"
     },
     "output_type": "display_data"
    }
   ],
   "source": [
    "plt.figure(figsize=(20,10))\n",
    "sns.heatmap(df_casino.corr(), annot=True)\n",
    "None"
   ]
  },
  {
   "cell_type": "markdown",
   "id": "e4bdeeba",
   "metadata": {},
   "source": [
    "# Гипотеза: в среднем люди проигрывают и выигрывают одинаковое количество денег"
   ]
  },
  {
   "cell_type": "code",
   "execution_count": 72,
   "id": "fe039982",
   "metadata": {},
   "outputs": [
    {
     "data": {
      "text/plain": [
       "Ttest_indResult(statistic=3.9120748967325305, pvalue=9.251801108115039e-05)"
      ]
     },
     "execution_count": 72,
     "metadata": {},
     "output_type": "execute_result"
    }
   ],
   "source": [
    "lost = df_casino[\"peopleLost\"]\n",
    "won = df_casino[\"peopleWin\"]\n",
    "\n",
    "stats.ttest_ind(lost.sample(3000), won.sample(3000))"
   ]
  },
  {
   "cell_type": "markdown",
   "id": "21b3adb7",
   "metadata": {},
   "source": [
    "p-value < 0.05, значит мы отвергаем гипотезу"
   ]
  },
  {
   "cell_type": "markdown",
   "id": "66a6f363",
   "metadata": {},
   "source": [
    "# Гипотеза: в среднем до полудня и после теряют одинаковое количество денег"
   ]
  },
  {
   "cell_type": "code",
   "execution_count": 75,
   "id": "5da20598",
   "metadata": {},
   "outputs": [
    {
     "data": {
      "text/plain": [
       "Ttest_relResult(statistic=1.0791366400565654, pvalue=0.2806136019644352)"
      ]
     },
     "execution_count": 75,
     "metadata": {},
     "output_type": "execute_result"
    }
   ],
   "source": [
    "am = df_casino[df_casino[\"hour\"] <= 12][\"peopleLost\"]\n",
    "pm = df_casino[df_casino[\"hour\"] > 12][\"peopleLost\"]\n",
    "\n",
    "stats.ttest_rel(am.sample(3000), pm.sample(3000))"
   ]
  },
  {
   "cell_type": "markdown",
   "id": "7b911ab7",
   "metadata": {},
   "source": [
    "p-value > 0.05, значит мы не отвергаем гипотезу"
   ]
  },
  {
   "cell_type": "markdown",
   "id": "9383f81c",
   "metadata": {},
   "source": [
    "# Гипотеза: с модератором и без люди теряют одинаковое количество денег"
   ]
  },
  {
   "cell_type": "code",
   "execution_count": 78,
   "id": "2ed438af",
   "metadata": {},
   "outputs": [
    {
     "data": {
      "text/plain": [
       "Ttest_relResult(statistic=16.802132487605586, pvalue=3.4782397020144964e-35)"
      ]
     },
     "execution_count": 78,
     "metadata": {},
     "output_type": "execute_result"
    }
   ],
   "source": [
    "moder_yes = df_casino[df_casino[\"moderator\"] == True][\"peopleLost\"]\n",
    "moder_no = df_casino[df_casino[\"moderator\"] == False][\"peopleLost\"]\n",
    "\n",
    "stats.ttest_rel(moder_yes, moder_no.sample(moder_yes.shape[0]))"
   ]
  },
  {
   "cell_type": "markdown",
   "id": "9bdb11f7",
   "metadata": {},
   "source": [
    "p-value < 0.05, значит мы отвергаем гипотезу"
   ]
  },
  {
   "cell_type": "markdown",
   "id": "5fe1ec15",
   "metadata": {},
   "source": [
    "# Гипотеза: в августе и сентябре ставили одинаковое количество скинов"
   ]
  },
  {
   "cell_type": "code",
   "execution_count": 84,
   "id": "5a35f1e1",
   "metadata": {},
   "outputs": [
    {
     "data": {
      "text/plain": [
       "Ttest_relResult(statistic=8.212351853230858, pvalue=3.186361265997146e-16)"
      ]
     },
     "execution_count": 84,
     "metadata": {},
     "output_type": "execute_result"
    }
   ],
   "source": [
    "aug = df_casino[df_casino[\"month\"] == 8][\"skins\"]\n",
    "sept = df_casino[df_casino[\"month\"] == 9][\"skins\"]\n",
    "\n",
    "stats.ttest_rel(aug.sample(3000), sept.sample(3000))"
   ]
  },
  {
   "cell_type": "markdown",
   "id": "db868d45",
   "metadata": {},
   "source": [
    "p-value < 0.05, значит мы отвергаем гипотезу"
   ]
  },
  {
   "cell_type": "code",
   "execution_count": 83,
   "id": "386972e8",
   "metadata": {},
   "outputs": [
    {
     "data": {
      "text/plain": [
       "156.19483309752135"
      ]
     },
     "execution_count": 83,
     "metadata": {},
     "output_type": "execute_result"
    }
   ],
   "source": [
    "sept.mean()"
   ]
  },
  {
   "cell_type": "code",
   "execution_count": null,
   "id": "eb894ae7",
   "metadata": {},
   "outputs": [],
   "source": []
  }
 ],
 "metadata": {
  "kernelspec": {
   "display_name": "Python 3 (ipykernel)",
   "language": "python",
   "name": "python3"
  },
  "language_info": {
   "codemirror_mode": {
    "name": "ipython",
    "version": 3
   },
   "file_extension": ".py",
   "mimetype": "text/x-python",
   "name": "python",
   "nbconvert_exporter": "python",
   "pygments_lexer": "ipython3",
   "version": "3.8.8"
  }
 },
 "nbformat": 4,
 "nbformat_minor": 5
}
